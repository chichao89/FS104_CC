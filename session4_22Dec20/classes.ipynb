{
 "metadata": {
  "language_info": {
   "codemirror_mode": {
    "name": "ipython",
    "version": 3
   },
   "file_extension": ".py",
   "mimetype": "text/x-python",
   "name": "python",
   "nbconvert_exporter": "python",
   "pygments_lexer": "ipython3",
   "version": "3.9.1-final"
  },
  "orig_nbformat": 2,
  "kernelspec": {
   "name": "python3",
   "display_name": "Python 3.9.1 64-bit",
   "metadata": {
    "interpreter": {
     "hash": "08fc856d89ca5c6d2f07d6eea55fc81a7d8b1dfd037fc52b7e68aafc0b44ee5c"
    }
   }
  }
 },
 "nbformat": 4,
 "nbformat_minor": 2,
 "cells": [
  {
   "cell_type": "code",
   "execution_count": 7,
   "metadata": {},
   "outputs": [
    {
     "output_type": "stream",
     "name": "stdout",
     "text": [
      "1 Vaibhav\n<__main__.Employee object at 0x00000144A66C9D30>\n1 See\n<__main__.Employee object at 0x00000144A66C9C70>\n"
     ]
    }
   ],
   "source": [
    "class Employee:\n",
    "    #attributes / properties\n",
    "    employee_id = \"\"\n",
    "    employee_name = \"\"\n",
    "    #class methods/behavior\n",
    "    def get_employee_id(self, id,name):\n",
    "        employee_id = id\n",
    "        employee_name = name\n",
    "        print(employee_id,employee_name)\n",
    "        print(self)\n",
    "\n",
    "employee1 = Employee()\n",
    "employee1.get_employee_id(1,\"Vaibhav\")\n",
    "\n",
    "employee2 = Employee()\n",
    "employee2.get_employee_id(1,\"See\")"
   ]
  },
  {
   "cell_type": "code",
   "execution_count": 9,
   "metadata": {},
   "outputs": [
    {
     "output_type": "stream",
     "name": "stdout",
     "text": [
      "<class '__main__.Example'>\n"
     ]
    }
   ],
   "source": [
    "#constructor\n",
    "class Example:\n",
    "    def function():\n",
    "        print(1)\n",
    "\n",
    "simpleObj = Example()\n",
    "print(type(simpleObj))"
   ]
  },
  {
   "cell_type": "code",
   "execution_count": 12,
   "metadata": {},
   "outputs": [
    {
     "output_type": "stream",
     "name": "stdout",
     "text": [
      "All variables initialized\n"
     ]
    }
   ],
   "source": [
    "class Example2:\n",
    "    def __init__(self,value1,value2):\n",
    "        self.var1 = value1\n",
    "        self.var2 = value2\n",
    "        print(\"All variables initialized\")\n",
    "\n",
    "myObject = Example2(\"first variable\",\"second variable\")"
   ]
  },
  {
   "cell_type": "code",
   "execution_count": 18,
   "metadata": {},
   "outputs": [
    {
     "output_type": "stream",
     "name": "stdout",
     "text": [
      "all is well 0\nall is well 1\nall is well 2\nall is well 3\nall is well 4\nall is well 5\nall is well 6\nall is well 7\nall is well 8\nall is well 9\nall is well 10\nall is well 11\nall is well 12\nall is well 13\nall is well 14\nall is well 15\nall is well 16\nall is well 17\nall is well 18\nall is well 19\nall is well 20\nall is well 21\nall is well 22\nall is well 23\nall is well 24\nall is well 25\nall is well 26\nall is well 27\nall is well 28\nall is well 29\nall is well 30\nall is well 31\nall is well 32\nall is well 33\nall is well 34\nall is well 35\nall is well 36\nall is well 37\nall is well 38\nall is well 39\nall is well 40\nall is well 41\nall is well 42\nall is well 43\nall is well 44\nall is well 45\nall is well 46\nall is well 47\nall is well 48\nall is well 49\nall is well 50\nall is well 51\nall is well 52\nall is well 53\nall is well 54\nall is well 55\nall is well 56\nall is well 57\nall is well 58\nall is well 59\nall is well 60\nall is well 61\nall is well 62\nall is well 63\nall is well 64\nall is well 65\nall is well 66\nall is well 67\nall is well 68\nall is well 69\nall is well 70\nall is well 71\nall is well 72\nall is well 73\nall is well 74\nall is well 75\nall is well 76\nall is well 77\nall is well 78\nall is well 79\nall is well 80\nall is well 81\nall is well 82\nall is well 83\nall is well 84\nall is well 85\nall is well 86\nall is well 87\nall is well 88\nall is well 89\nall is well 90\nall is well 91\nall is well 92\nall is well 93\nall is well 94\nall is well 95\nall is well 96\nall is well 97\nall is well 98\nall is well 99\n"
     ]
    }
   ],
   "source": [
    "import sys\n",
    "\n",
    "class NewSample:\n",
    "    def __init__(self,number1):\n",
    "        self.num1 = number1\n",
    "        print(\"all is well\", self.num1)\n",
    "    def displaynumber(self):\n",
    "        print(self.num1)\n",
    "\n",
    "\n",
    "my_objects = []\n",
    "\n",
    "for i in range(100):\n",
    "    my_objects.append(NewSample(i))\n",
    "\n",
    "\n",
    "#later\n",
    "#for obj in my_objects:\n",
    "    #print(obj.displaynumber)\n"
   ]
  },
  {
   "cell_type": "code",
   "execution_count": null,
   "metadata": {},
   "outputs": [],
   "source": []
  }
 ]
}