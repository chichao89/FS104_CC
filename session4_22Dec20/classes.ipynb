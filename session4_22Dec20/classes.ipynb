{
 "metadata": {
  "language_info": {
   "codemirror_mode": {
    "name": "ipython",
    "version": 3
   },
   "file_extension": ".py",
   "mimetype": "text/x-python",
   "name": "python",
   "nbconvert_exporter": "python",
   "pygments_lexer": "ipython3",
   "version": "3.9.1-final"
  },
  "orig_nbformat": 2,
  "kernelspec": {
   "name": "python3",
   "display_name": "Python 3.9.1 64-bit",
   "metadata": {
    "interpreter": {
     "hash": "08fc856d89ca5c6d2f07d6eea55fc81a7d8b1dfd037fc52b7e68aafc0b44ee5c"
    }
   }
  }
 },
 "nbformat": 4,
 "nbformat_minor": 2,
 "cells": [
  {
   "cell_type": "code",
   "execution_count": 7,
   "metadata": {},
   "outputs": [
    {
     "output_type": "stream",
     "name": "stdout",
     "text": [
      "1 Vaibhav\n<__main__.Employee object at 0x00000144A66C9D30>\n1 See\n<__main__.Employee object at 0x00000144A66C9C70>\n"
     ]
    }
   ],
   "source": [
    "class Employee:\n",
    "    #attributes / properties\n",
    "    employee_id = \"\"\n",
    "    employee_name = \"\"\n",
    "    #class methods/behavior\n",
    "    def get_employee_id(self, id,name):\n",
    "        employee_id = id\n",
    "        employee_name = name\n",
    "        print(employee_id,employee_name)\n",
    "        print(self)\n",
    "\n",
    "employee1 = Employee()\n",
    "employee1.get_employee_id(1,\"Vaibhav\")\n",
    "\n",
    "employee2 = Employee()\n",
    "employee2.get_employee_id(1,\"See\")"
   ]
  },
  {
   "cell_type": "code",
   "execution_count": 9,
   "metadata": {},
   "outputs": [
    {
     "output_type": "stream",
     "name": "stdout",
     "text": [
      "<class '__main__.Example'>\n"
     ]
    }
   ],
   "source": [
    "#constructor\n",
    "class Example:\n",
    "    def function():\n",
    "        print(1)\n",
    "\n",
    "simpleObj = Example()\n",
    "print(type(simpleObj))"
   ]
  },
  {
   "cell_type": "code",
   "execution_count": null,
   "metadata": {},
   "outputs": [],
   "source": []
  }
 ]
}