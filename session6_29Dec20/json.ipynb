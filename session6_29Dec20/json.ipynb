{
 "metadata": {
  "language_info": {
   "codemirror_mode": {
    "name": "ipython",
    "version": 3
   },
   "file_extension": ".py",
   "mimetype": "text/x-python",
   "name": "python",
   "nbconvert_exporter": "python",
   "pygments_lexer": "ipython3",
   "version": "3.9.1-final"
  },
  "orig_nbformat": 2,
  "kernelspec": {
   "name": "python3",
   "display_name": "Python 3.9.1 64-bit",
   "metadata": {
    "interpreter": {
     "hash": "08fc856d89ca5c6d2f07d6eea55fc81a7d8b1dfd037fc52b7e68aafc0b44ee5c"
    }
   }
  }
 },
 "nbformat": 4,
 "nbformat_minor": 2,
 "cells": [
  {
   "cell_type": "code",
   "execution_count": 5,
   "metadata": {},
   "outputs": [
    {
     "output_type": "stream",
     "name": "stdout",
     "text": [
      "{'name': 'Vaibhav', 'languages': ['English', 'Hindi']}\n['English', 'Hindi']\n"
     ]
    }
   ],
   "source": [
    "import json\n",
    "\n",
    "person = '{\"name\":\"Vaibhav\", \"languages\":[\"English\",\"Hindi\"]}'\n",
    "person_dict = json.loads(person)\n",
    "\n",
    "print(person_dict)\n",
    "print(person_dict[\"languages\"])"
   ]
  },
  {
   "cell_type": "code",
   "execution_count": 9,
   "metadata": {},
   "outputs": [
    {
     "output_type": "stream",
     "name": "stdout",
     "text": [
      "{'first_name': 'Chi Chao', 'last_name': 'See'}\nSee\n"
     ]
    }
   ],
   "source": [
    "import json\n",
    "\n",
    "employee = '{\"first_name\":\"Chi Chao\", \"last_name\":\"See\"}'\n",
    "person_dict = json.loads(employee)\n",
    "\n",
    "print(person_dict)\n",
    "print(person_dict[\"last_name\"])"
   ]
  },
  {
   "cell_type": "code",
   "execution_count": null,
   "metadata": {},
   "outputs": [],
   "source": []
  }
 ]
}