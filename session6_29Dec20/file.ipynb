{
 "metadata": {
  "language_info": {
   "codemirror_mode": {
    "name": "ipython",
    "version": 3
   },
   "file_extension": ".py",
   "mimetype": "text/x-python",
   "name": "python",
   "nbconvert_exporter": "python",
   "pygments_lexer": "ipython3",
   "version": "3.9.1-final"
  },
  "orig_nbformat": 2,
  "kernelspec": {
   "name": "python3",
   "display_name": "Python 3.9.1 64-bit",
   "metadata": {
    "interpreter": {
     "hash": "08fc856d89ca5c6d2f07d6eea55fc81a7d8b1dfd037fc52b7e68aafc0b44ee5c"
    }
   }
  }
 },
 "nbformat": 4,
 "nbformat_minor": 2,
 "cells": [
  {
   "cell_type": "code",
   "execution_count": 1,
   "metadata": {},
   "outputs": [],
   "source": [
    "#create a file\n",
    "\n",
    "#file_object = open(\"filename\",\"mode\")\n",
    "file_object = open(\"test1.txt\",\"w+\")"
   ]
  },
  {
   "cell_type": "code",
   "execution_count": 2,
   "metadata": {},
   "outputs": [],
   "source": [
    "#write into a file\n",
    "\n",
    "for i in range(10):\n",
    "    file_object.write(\"This is a line %d\\r\\n\" %(i+1))"
   ]
  },
  {
   "cell_type": "code",
   "execution_count": 3,
   "metadata": {},
   "outputs": [],
   "source": [
    "file_object.close()"
   ]
  },
  {
   "cell_type": "code",
   "execution_count": 4,
   "metadata": {},
   "outputs": [
    {
     "output_type": "stream",
     "name": "stdout",
     "text": [
      "This is a line 1\n\nThis is a line 2\n\nThis is a line 3\n\nThis is a line 4\n\nThis is a line 5\n\nThis is a line 6\n\nThis is a line 7\n\nThis is a line 8\n\nThis is a line 9\n\nThis is a line 10\n\n\n"
     ]
    }
   ],
   "source": [
    "#reading a file\n",
    "f = open(\"test1.txt\",\"r\")\n",
    "if f.mode == \"r\":\n",
    "    contents = f.read()\n",
    "    print(contents)"
   ]
  },
  {
   "cell_type": "code",
   "execution_count": 6,
   "metadata": {},
   "outputs": [
    {
     "output_type": "stream",
     "name": "stdout",
     "text": [
      "This is a line 1\n\n\n\nThis is a line 2\n\n\n\nThis is a line 3\n\n\n\nThis is a line 4\n\n\n\nThis is a line 5\n\n\n\nThis is a line 6\n\n\n\nThis is a line 7\n\n\n\nThis is a line 8\n\n\n\nThis is a line 9\n\n\n\nThis is a line 10\n\n\n\n"
     ]
    }
   ],
   "source": [
    "f = open(\"test1.txt\",\"r\")\n",
    "f1 = f.readlines()\n",
    "for line in f1:\n",
    "    print(line)"
   ]
  },
  {
   "cell_type": "code",
   "execution_count": 8,
   "metadata": {},
   "outputs": [],
   "source": [
    "#append text to a file\n",
    "\n",
    "file_object = open(\"test1.txt\",\"a+\")\n",
    "for i in range(2):\n",
    "    file_object.write(\"I have add more lines %d\\r\\n\" %(i+1))\n",
    "file_object.close()"
   ]
  },
  {
   "cell_type": "code",
   "execution_count": 9,
   "metadata": {},
   "outputs": [],
   "source": [
    "def file_content(string):\n",
    "    file = open(\"test2.txt\",\"w\")\n",
    "    file.write(string)\n",
    "    file.close()\n",
    "\n",
    "file_content(\"this is a merc\")"
   ]
  },
  {
   "cell_type": "code",
   "execution_count": 10,
   "metadata": {},
   "outputs": [],
   "source": [
    "filestring = str(input(\"Enter a text\"))\n",
    "\n",
    "def file_content(string):\n",
    "    file = open(\"test2.txt\",\"w\")\n",
    "    file.write(string)\n",
    "    file.close()\n",
    "\n",
    "file_content(filestring)"
   ]
  },
  {
   "cell_type": "code",
   "execution_count": 12,
   "metadata": {},
   "outputs": [
    {
     "output_type": "error",
     "ename": "NameError",
     "evalue": "name 'raw_input' is not defined",
     "traceback": [
      "\u001b[1;31m---------------------------------------------------------------------------\u001b[0m",
      "\u001b[1;31mNameError\u001b[0m                                 Traceback (most recent call last)",
      "\u001b[1;32m<ipython-input-12-1b72c7873ae9>\u001b[0m in \u001b[0;36m<module>\u001b[1;34m\u001b[0m\n\u001b[1;32m----> 1\u001b[1;33m \u001b[0mfilestring\u001b[0m \u001b[1;33m=\u001b[0m \u001b[0mraw_input\u001b[0m\u001b[1;33m(\u001b[0m\u001b[1;34m\"Enter a text\"\u001b[0m\u001b[1;33m)\u001b[0m\u001b[1;33m\u001b[0m\u001b[1;33m\u001b[0m\u001b[0m\n\u001b[0m\u001b[0;32m      2\u001b[0m \u001b[1;33m\u001b[0m\u001b[0m\n\u001b[0;32m      3\u001b[0m \u001b[1;32mdef\u001b[0m \u001b[0mfile_content\u001b[0m\u001b[1;33m(\u001b[0m\u001b[0mstring\u001b[0m\u001b[1;33m)\u001b[0m\u001b[1;33m:\u001b[0m\u001b[1;33m\u001b[0m\u001b[1;33m\u001b[0m\u001b[0m\n\u001b[0;32m      4\u001b[0m     \u001b[0mfile\u001b[0m \u001b[1;33m=\u001b[0m \u001b[0mopen\u001b[0m\u001b[1;33m(\u001b[0m\u001b[1;34m\"test2.txt\"\u001b[0m\u001b[1;33m,\u001b[0m\u001b[1;34m\"w\"\u001b[0m\u001b[1;33m)\u001b[0m\u001b[1;33m\u001b[0m\u001b[1;33m\u001b[0m\u001b[0m\n\u001b[0;32m      5\u001b[0m     \u001b[0mfile\u001b[0m\u001b[1;33m.\u001b[0m\u001b[0mwrite\u001b[0m\u001b[1;33m(\u001b[0m\u001b[0mstring\u001b[0m\u001b[1;33m)\u001b[0m\u001b[1;33m\u001b[0m\u001b[1;33m\u001b[0m\u001b[0m\n",
      "\u001b[1;31mNameError\u001b[0m: name 'raw_input' is not defined"
     ]
    }
   ],
   "source": []
  },
  {
   "cell_type": "code",
   "execution_count": 21,
   "metadata": {},
   "outputs": [],
   "source": [
    "def append_to_file(argument_from_function):\n",
    "    file = open(\"test2.txt\",\"a\")\n",
    "    file.write(argument_from_function)\n",
    "    file.close()\n",
    "\n",
    "append_to_file(\"\\nhello,its me again\")"
   ]
  },
  {
   "cell_type": "code",
   "execution_count": null,
   "metadata": {},
   "outputs": [],
   "source": []
  }
 ]
}