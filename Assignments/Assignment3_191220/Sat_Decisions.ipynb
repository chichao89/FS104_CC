{
 "cells": [
  {
   "cell_type": "markdown",
   "metadata": {},
   "source": [
    "# Exercises"
   ]
  },
  {
   "cell_type": "markdown",
   "metadata": {},
   "source": [
    "## Question 1"
   ]
  },
  {
   "cell_type": "markdown",
   "metadata": {},
   "source": [
    "**Write a program that takes input of number from user and checks whether number is positive or negative.**"
   ]
  },
  {
   "cell_type": "code",
   "execution_count": 8,
   "metadata": {},
   "outputs": [
    {
     "output_type": "stream",
     "name": "stdout",
     "text": [
      "99 is positive\n"
     ]
    }
   ],
   "source": [
    "#Algorithm\n",
    "#1. Take input of number\n",
    "#2. write an if else to check number is positive or negative\n",
    "#3. return output number whether it is positive or negative.\n",
    "number = input(\"Enter a Number to check whether it is positive or negative\")\n",
    "num = int(number)\n",
    "if(num >= 0):\n",
    "    print(num , 'is positive')\n",
    "else:\n",
    "    print(num , 'is negative')\n",
    "\n"
   ]
  },
  {
   "cell_type": "markdown",
   "metadata": {},
   "source": [
    "## Question 2"
   ]
  },
  {
   "cell_type": "markdown",
   "metadata": {},
   "source": [
    "**Write a program that inputs a number from user and checks whether number is even or odd.**"
   ]
  },
  {
   "cell_type": "code",
   "execution_count": 10,
   "metadata": {},
   "outputs": [
    {
     "output_type": "stream",
     "name": "stdout",
     "text": [
      "9 is odd\n"
     ]
    }
   ],
   "source": [
    "#Algorithm\n",
    "#1. Take input of number\n",
    "#2. write an if else to check number is even or odd\n",
    "#3. return output number whether it is even or odd.\n",
    "number = input(\"Enter a Number to check whether it is odd or even\")\n",
    "num = int(number)\n",
    "if(num % 2 == 0):\n",
    "    print(num , 'is even')\n",
    "else:\n",
    "    print(num , 'is odd')"
   ]
  },
  {
   "cell_type": "markdown",
   "metadata": {},
   "source": [
    "## Question 3"
   ]
  },
  {
   "cell_type": "markdown",
   "metadata": {},
   "source": [
    "**Write a program that finds greatest among three numbers. <br> And output print with \"The largest number is (output)\"**"
   ]
  },
  {
   "cell_type": "code",
   "execution_count": 15,
   "metadata": {},
   "outputs": [
    {
     "output_type": "stream",
     "name": "stdout",
     "text": [
      "The largest number is 20\n"
     ]
    }
   ],
   "source": [
    "#Algorithm\n",
    "#1. create a function to take in 3 numbers\n",
    "#2. find the max(largest) number in the list\n",
    "#3. return output number that is the largest number.\n",
    "def my_number(n1, n2, n3):    \n",
    "    return print('The largest number is',max(n1,n2,n3))\n",
    "\n",
    "#my_number(1,2,3)\n",
    "my_number(19,18,20)"
   ]
  },
  {
   "cell_type": "markdown",
   "metadata": {},
   "source": [
    "## Question 4"
   ]
  },
  {
   "cell_type": "markdown",
   "metadata": {},
   "source": [
    "**You’re on a long car trip and arrive at a gas station. The next gas station is 200km away.\n",
    "Write a program to figure out if you need to buy gas here, or if you can wait for the\n",
    "next station. <br><br>\n",
    "The condition to buy gas here is if car is able to run at least 200km more <br><br>\n",
    "Ask user for input: How many litres of gas left in tank? How many km/litre is your car? <br>\n",
    "Hint: Calculate the distance your car can still run with remaining gas**\n"
   ]
  },
  {
   "cell_type": "code",
   "execution_count": 22,
   "metadata": {},
   "outputs": [
    {
     "output_type": "stream",
     "name": "stdout",
     "text": [
      "250\nCar can continue another 200 KM. Can buy gas at next station\n"
     ]
    }
   ],
   "source": [
    "#Algorithm\n",
    "#1. Create an user input for \"How many litres of gas left in tank\"\n",
    "#2. Create another user input for \"How many km/litre in your car\"\n",
    "#3. Check whether car gas tank left * fuel efficiently is smaller/equal to 200km,if no, buy gas now , else buy gas at next station\n",
    "\n",
    "#eg:mazda 3\n",
    "#fuel tank capacity = 50\n",
    "#city - 100km/4l\n",
    "from fractions import Fraction as frac\n",
    "gas_left = int(input('How many litres of gas left in tank'))\n",
    "fuel = input('Provide km/litre in fraction format i.e (100/4)')\n",
    "fuel_num = frac(fuel)\n",
    "sum = fuel_num * gas_left\n",
    "distance = 200\n",
    "if (sum <= distance):\n",
    "    print('Need to buy gas here')\n",
    "else:\n",
    "    print('Car can continue another', distance,'KM. Can buy gas at next station.')"
   ]
  },
  {
   "cell_type": "markdown",
   "metadata": {},
   "source": [
    "## Question 5"
   ]
  },
  {
   "cell_type": "markdown",
   "metadata": {},
   "source": [
    "**A soccer team is looking for girls from ages 10 to 12 to play on their team. Write a program to ask the user’s age and whether the user is male or female (using “m” or “f”). Display a message indicating whether the person is eligible to play on the team.\n",
    "Bonus: Make the program so that it doesn’t ask for the age unless the user is a girl.**"
   ]
  },
  {
   "cell_type": "code",
   "execution_count": 39,
   "metadata": {},
   "outputs": [
    {
     "output_type": "stream",
     "name": "stdout",
     "text": [
      "Hey f Your are 12 years old, It means you are eligible to play for the football team!\n"
     ]
    }
   ],
   "source": [
    "#Algorithm\n",
    "#1. Create user input to ask the user's age and whether user is m or f\n",
    "#2. display message whether the user is eligible to play on the team\n",
    "#3. add in condition not to ask the user'age unless the user is a girl\n",
    "#4, if is m, cannot play, if is f, check the age between 10 to 12, if less than 9 and more than 12 , cannot play else can play within these range\n",
    "\n",
    "male = 'M'\n",
    "female = 'F'\n",
    "gender_input = input('Please enter your gender as m or f')\n",
    "if (gender_input == female.lower()):\n",
    "    age = int(input('Please input your age'))\n",
    "    if(age < 9 or age > 12):\n",
    "        print('Hey',gender_input,'Your are',age,'years old, It means you are not eligible to play for the football team')\n",
    "    else:\n",
    "        print('Hey',gender_input,'Your are',age,'years old, It means you are eligible to play for the football team!')\n",
    "else:\n",
    "    print('Hey',gender_input,'You are not eligible to play for the football team')"
   ]
  },
  {
   "cell_type": "markdown",
   "metadata": {},
   "source": [
    "## Question 6"
   ]
  },
  {
   "cell_type": "markdown",
   "metadata": {},
   "source": [
    "**Write a program that prompts the user to enter a weight in kilograms and height in metres and then displays the BMI as well as below interpreations.** \n",
    "\n",
    "**If BMI is Below $18.5$, it is interpreted as Underweight. <br>\n",
    "If BMI is from $18.5–24.9$, it is interpreted as Normal. <br>\n",
    "If BMI is from $25.0–29.9$, it is interpreted as Overweight. <br>\n",
    "else If BMI is Above $30.0$, it is interpreted as Obese.**\n"
   ]
  },
  {
   "cell_type": "code",
   "execution_count": 45,
   "metadata": {},
   "outputs": [
    {
     "output_type": "stream",
     "name": "stdout",
     "text": [
      "28.04\nYou are overweight\n"
     ]
    }
   ],
   "source": [
    "#Algorithm\n",
    "#1. Create user input to ask the user's weight\n",
    "#2. Create user input to ask the user's height\n",
    "#3. calculate the bmi of the user\n",
    "#4, if BMI is below 18.5, he is underweight, if 18.5 - 24.9 he is normal, if #25.0 - 29.9 , he is overweight, finally if abovve 30.0 , he is obese.\n",
    "\n",
    "weight = float(input('Enter Your weight in KG'))\n",
    "height = float(input('Enter your height in Metres'))\n",
    "BMI = round(float(weight/height**2),2)\n",
    "if(BMI < 18.5):\n",
    "    print('You are underweight')\n",
    "elif(BMI >= 18.5 and BMI <=24.9):\n",
    "    print('You are Normal')\n",
    "elif(BMI >= 25.0 and BMI <= 29.9):\n",
    "    print('You are overweight')\n",
    "else:\n",
    "    print('You are obese')\n",
    "\n"
   ]
  },
  {
   "cell_type": "markdown",
   "metadata": {},
   "source": [
    "## Question 7"
   ]
  },
  {
   "cell_type": "markdown",
   "metadata": {},
   "source": [
    "**Write a program in which user enters one number and whether it is divisible by 7 (ie. remainder 0 when divide by 7) and is not a multiple of 5.**"
   ]
  },
  {
   "cell_type": "code",
   "execution_count": 54,
   "metadata": {},
   "outputs": [
    {
     "output_type": "stream",
     "name": "stdout",
     "text": [
      "49 is divisible by 7 and is not of multiple of 5\n"
     ]
    }
   ],
   "source": [
    "#Algorithm\n",
    "#1. Create user input to enter one number\n",
    "#2. Check if number is divisible by 7\n",
    "#3. check if number is not a multiple of 5\n",
    "#4. return output\n",
    "\n",
    "check_number = int(input('Enter a number'))\n",
    "if(check_number % 7 == 0): \n",
    "    if(check_number % 5 != 0):\n",
    "        print(check_number,'is divisible by 7 and is not of multiple of 5')\n",
    "    else:\n",
    "        print(check_number,'is divisible by 7 and is a multiple of 5')\n",
    "else:\n",
    "    print(check_number,'is not divisible by 7')\n"
   ]
  }
 ],
 "metadata": {
  "kernelspec": {
   "name": "python3",
   "display_name": "Python 3.9.1 64-bit",
   "metadata": {
    "interpreter": {
     "hash": "08fc856d89ca5c6d2f07d6eea55fc81a7d8b1dfd037fc52b7e68aafc0b44ee5c"
    }
   }
  },
  "language_info": {
   "codemirror_mode": {
    "name": "ipython",
    "version": 3
   },
   "file_extension": ".py",
   "mimetype": "text/x-python",
   "name": "python",
   "nbconvert_exporter": "python",
   "pygments_lexer": "ipython3",
   "version": "3.9.1-final"
  }
 },
 "nbformat": 4,
 "nbformat_minor": 2
}