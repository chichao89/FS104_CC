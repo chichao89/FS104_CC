{
 "metadata": {
  "language_info": {
   "codemirror_mode": {
    "name": "ipython",
    "version": 3
   },
   "file_extension": ".py",
   "mimetype": "text/x-python",
   "name": "python",
   "nbconvert_exporter": "python",
   "pygments_lexer": "ipython3",
   "version": "3.9.1-final"
  },
  "orig_nbformat": 2,
  "kernelspec": {
   "name": "python3",
   "display_name": "Python 3.9.1 64-bit",
   "metadata": {
    "interpreter": {
     "hash": "08fc856d89ca5c6d2f07d6eea55fc81a7d8b1dfd037fc52b7e68aafc0b44ee5c"
    }
   }
  }
 },
 "nbformat": 4,
 "nbformat_minor": 2,
 "cells": [
  {
   "cell_type": "code",
   "execution_count": 9,
   "metadata": {},
   "outputs": [
    {
     "output_type": "stream",
     "name": "stdout",
     "text": [
      "the input is not an integer\n"
     ]
    }
   ],
   "source": [
    "def addition(num1,num2):\n",
    "    if(type(num1) == int and type(num2) == int):    \n",
    "        sum = num1 + num2\n",
    "        return sum\n",
    "    else:\n",
    "        print(\"the input is not an integer\")    \n",
    "addition(\"hello\",5)"
   ]
  },
  {
   "cell_type": "code",
   "execution_count": 11,
   "metadata": {},
   "outputs": [
    {
     "output_type": "execute_result",
     "data": {
      "text/plain": [
       "'12'"
      ]
     },
     "metadata": {},
     "execution_count": 11
    }
   ],
   "source": [
    "def concatenate(string1,string2):\n",
    "    return str(string1) + str(string2)\n",
    "\n",
    "concatenate(1,2)"
   ]
  },
  {
   "cell_type": "code",
   "execution_count": 7,
   "metadata": {},
   "outputs": [
    {
     "output_type": "stream",
     "name": "stdout",
     "text": [
      "Hello!\n"
     ]
    }
   ],
   "source": [
    "def hello():\n",
    "    print(\"Hello!\")\n",
    "\n",
    "hello()"
   ]
  },
  {
   "cell_type": "code",
   "execution_count": 13,
   "metadata": {},
   "outputs": [
    {
     "output_type": "execute_result",
     "data": {
      "text/plain": [
       "35"
      ]
     },
     "metadata": {},
     "execution_count": 13
    }
   ],
   "source": [
    "def addition(numList):\n",
    "    sum = 0\n",
    "    for num in numList:\n",
    "        sum += num\n",
    "    return sum \n",
    "\n",
    "numList = [1,3,5,7,9,10]\n",
    "\n",
    "addition(numList)"
   ]
  },
  {
   "cell_type": "code",
   "execution_count": 15,
   "metadata": {},
   "outputs": [
    {
     "output_type": "execute_result",
     "data": {
      "text/plain": [
       "False"
      ]
     },
     "metadata": {},
     "execution_count": 15
    }
   ],
   "source": [
    "listObj = []\n",
    "\n",
    "any(listObj)"
   ]
  },
  {
   "cell_type": "code",
   "execution_count": 20,
   "metadata": {},
   "outputs": [
    {
     "output_type": "execute_result",
     "data": {
      "text/plain": [
       "[1, 1, 2, 3]"
      ]
     },
     "metadata": {},
     "execution_count": 20
    }
   ],
   "source": [
    "def less_than_5(num):\n",
    "    list_new = []\n",
    "    for x in num:\n",
    "        if x < 5:\n",
    "            list_new.append(x)\n",
    "    return list_new\n",
    "\n",
    "a = [1, 1, 2, 3, 5, 8, 13, 21, 34, 55, 89]\n",
    "less_than_5(a)"
   ]
  },
  {
   "cell_type": "code",
   "execution_count": 26,
   "metadata": {},
   "outputs": [
    {
     "output_type": "execute_result",
     "data": {
      "text/plain": [
       "[1, 1, 2, 3]"
      ]
     },
     "metadata": {},
     "execution_count": 26
    }
   ],
   "source": [
    "#write in 1 line\n",
    "def less_than_5(num):\n",
    "    return [x for x in num if x < 5]\n",
    "\n",
    "a = [1, 1, 2, 3, 5, 8, 13, 21, 34, 55, 89]\n",
    "less_than_5(a)"
   ]
  },
  {
   "cell_type": "code",
   "execution_count": 32,
   "metadata": {},
   "outputs": [
    {
     "output_type": "execute_result",
     "data": {
      "text/plain": [
       "5"
      ]
     },
     "metadata": {},
     "execution_count": 32
    }
   ],
   "source": [
    "add = lambda x,y: x + y\n",
    "add(2,3)\n",
    "\n",
    "#equivalent to \n",
    "#def add(x):\n",
    "#   return x + 1\n",
    "\n",
    "#multi_argument\n",
    "#def add(x,y):\n",
    "#    return x + y"
   ]
  },
  {
   "cell_type": "code",
   "execution_count": 47,
   "metadata": {},
   "outputs": [
    {
     "output_type": "stream",
     "name": "stdout",
     "text": [
      "Hello- Moon\nmy destination- Moon\nHello- Mars\nmy destination- Mars\n"
     ]
    }
   ],
   "source": [
    "class Apollo:\n",
    "    #constructor\n",
    "    #public is without underscore\n",
    "    #_ is protected\n",
    "    #__ is private\n",
    "    def __init__(self,destination):\n",
    "        self.destination = destination\n",
    "    #member behavior/functions\n",
    "    def printHello(self):\n",
    "        print(\"Hello-\",self.destination)\n",
    "    def get_destination(self):\n",
    "        print(\"my destination-\",self.destination)\n",
    "    \n",
    "apollo1 = Apollo(\"Moon\")\n",
    "apollo1.printHello()\n",
    "apollo1.get_destination()\n",
    "\n",
    "apollo2 = Apollo(\"Mars\")\n",
    "apollo2.printHello()\n",
    "apollo2.get_destination()\n",
    "\n",
    "#inheritance\n",
    "#class Aposhi(Apollo):\n",
    "#    pass\n",
    "\n",
    "#x = Apollo(\"Neptune\")\n",
    "#y = Aposhi(\"Saturn\")\n",
    "#print(x, type(x))\n",
    "#print(y, type(y))\n",
    "\n",
    "#y.printHello()\n",
    "#y.get_destination()\n"
   ]
  },
  {
   "cell_type": "code",
   "execution_count": 44,
   "metadata": {},
   "outputs": [
    {
     "output_type": "stream",
     "name": "stdout",
     "text": [
      "My destination -  Home1\nMy destination -  House1\nMy destination -  Home1\nMy destination -  House1\n"
     ]
    }
   ],
   "source": [
    "#Method one without __init__:\n",
    "DictofPlaces = {'Home': 'Home1', 'House': 'House1'}\n",
    "\n",
    "#create class\n",
    "class Place:\n",
    "    #create variables\n",
    "    destination = \"\"\n",
    "    #define functions/behaviors\n",
    "    def printhello(self):\n",
    "        print(\"Hello!!!!\")\n",
    "    def get_destination(self):\n",
    "        print(\"My destination - \", self.destination)\n",
    "\n",
    "for key in DictofPlaces:\n",
    "    objectname = \"object\" + key\n",
    "    objectname = Place()\n",
    "    objectname.destination = DictofPlaces[key]\n",
    "    objectname.get_destination()\n",
    "#With __init__:\n",
    "DictofPlaces = {'Home': 'Home1', 'House': 'House1'}\n",
    "\n",
    "#create class\n",
    "class Place:\n",
    "    #create variables\n",
    "    def __init__(self,destination):\n",
    "        self.destination = destination\n",
    "    #define functions/behaviors\n",
    "    def printhello(self):\n",
    "        print(\"Hello!!!!\")\n",
    "    def get_destination(self):\n",
    "        print(\"My destination - \", self.destination)\n",
    "\n",
    "for key in DictofPlaces:\n",
    "    objectname = \"object\" + key\n",
    "    objectname = Place(DictofPlaces[key])\n",
    "    objectname.get_destination()\n"
   ]
  },
  {
   "cell_type": "code",
   "execution_count": 48,
   "metadata": {},
   "outputs": [
    {
     "output_type": "stream",
     "name": "stdout",
     "text": [
      "15\n"
     ]
    }
   ],
   "source": [
    "#lambda functions(anoymous functions)\n",
    "#map,fitler,reduce,filter over collections\n",
    "a = lambda x : x + 10\n",
    "print(a(5))\n"
   ]
  },
  {
   "cell_type": "code",
   "execution_count": 54,
   "metadata": {},
   "outputs": [
    {
     "output_type": "stream",
     "name": "stdout",
     "text": [
      "[-5, -4, -3, -2, -1]\n"
     ]
    }
   ],
   "source": [
    "mylist = range(-5, 5)\n",
    "negatives = filter(lambda x: x < 0, mylist)\n",
    "#print(type(negatives))\n",
    "print(list(negatives))\n"
   ]
  },
  {
   "cell_type": "code",
   "execution_count": 56,
   "metadata": {},
   "outputs": [
    {
     "output_type": "stream",
     "name": "stdout",
     "text": [
      "[-10, -8, -6, -4, -2, 0, 2, 4, 6, 8]\n"
     ]
    }
   ],
   "source": [
    "mylist = range(-5, 5)\n",
    "positive = map(lambda x: x * 2, mylist)\n",
    "#print(type(negatives))\n",
    "print(list(positive))"
   ]
  },
  {
   "cell_type": "code",
   "execution_count": 57,
   "metadata": {},
   "outputs": [
    {
     "output_type": "stream",
     "name": "stdout",
     "text": [
      "[11, 12, 13, 14]\n"
     ]
    }
   ],
   "source": [
    "a = [1,2,3,4]\n",
    "b = [10,10,10,10]\n",
    "c = map(lambda x,y:x+y, a,b)\n",
    "print(list(c))\n"
   ]
  },
  {
   "cell_type": "code",
   "execution_count": 60,
   "metadata": {},
   "outputs": [
    {
     "output_type": "execute_result",
     "data": {
      "text/plain": [
       "[11, 12, 13, 14]"
      ]
     },
     "metadata": {},
     "execution_count": 60
    }
   ],
   "source": [
    "def two_list(a,b):\n",
    "    sum = 0\n",
    "    c = []\n",
    "    for x in a:\n",
    "        for y in b:\n",
    "            sum = x + y\n",
    "        c.append(sum)\n",
    "    return c\n",
    "\n",
    "a = [1,2,3,4]\n",
    "b = [10,10,10,10]\n",
    "two_list(a,b)"
   ]
  },
  {
   "cell_type": "code",
   "execution_count": 61,
   "metadata": {},
   "outputs": [
    {
     "output_type": "stream",
     "name": "stdout",
     "text": [
      "[11, 12, 13, 14]\n"
     ]
    }
   ],
   "source": [
    "a = [1,2,3,4]\n",
    "b = [10,10,10,10]\n",
    "newList = []\n",
    "for x in range(len(a)):\n",
    "    newList.append(a[x] + b[x])\n",
    "print(newList)\n"
   ]
  },
  {
   "cell_type": "code",
   "execution_count": null,
   "metadata": {},
   "outputs": [],
   "source": []
  }
 ]
}