{
 "metadata": {
  "language_info": {
   "codemirror_mode": {
    "name": "ipython",
    "version": 3
   },
   "file_extension": ".py",
   "mimetype": "text/x-python",
   "name": "python",
   "nbconvert_exporter": "python",
   "pygments_lexer": "ipython3",
   "version": "3.9.1-final"
  },
  "orig_nbformat": 2,
  "kernelspec": {
   "name": "python3",
   "display_name": "Python 3.9.1 64-bit",
   "metadata": {
    "interpreter": {
     "hash": "08fc856d89ca5c6d2f07d6eea55fc81a7d8b1dfd037fc52b7e68aafc0b44ee5c"
    }
   }
  }
 },
 "nbformat": 4,
 "nbformat_minor": 2,
 "cells": [
  {
   "cell_type": "code",
   "execution_count": 6,
   "metadata": {},
   "outputs": [
    {
     "output_type": "stream",
     "name": "stdout",
     "text": [
      "Berry 12 English\n"
     ]
    }
   ],
   "source": [
    "dict = {'Student Name': 'Berry', 'Roll No.': 12, 'Subject': 'English'}\n",
    "#try and print the name of the student\n",
    "#try and print the Roll no of the student\n",
    "print(dict['Student Name'],dict['Roll No.'],dict['Subject'])\n"
   ]
  },
  {
   "cell_type": "code",
   "execution_count": 8,
   "metadata": {},
   "outputs": [],
   "source": [
    "dict_append = {'Grade':'100'}\n",
    "dict.update(dict_append)"
   ]
  },
  {
   "cell_type": "code",
   "execution_count": null,
   "metadata": {},
   "outputs": [],
   "source": []
  }
 ]
}