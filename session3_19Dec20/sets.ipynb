{
 "metadata": {
  "language_info": {
   "codemirror_mode": {
    "name": "ipython",
    "version": 3
   },
   "file_extension": ".py",
   "mimetype": "text/x-python",
   "name": "python",
   "nbconvert_exporter": "python",
   "pygments_lexer": "ipython3",
   "version": "3.9.1-final"
  },
  "orig_nbformat": 2,
  "kernelspec": {
   "name": "python3",
   "display_name": "Python 3.9.1 64-bit",
   "metadata": {
    "interpreter": {
     "hash": "08fc856d89ca5c6d2f07d6eea55fc81a7d8b1dfd037fc52b7e68aafc0b44ee5c"
    }
   }
  }
 },
 "nbformat": 4,
 "nbformat_minor": 2,
 "cells": [
  {
   "cell_type": "code",
   "execution_count": 3,
   "metadata": {},
   "outputs": [
    {
     "output_type": "execute_result",
     "data": {
      "text/plain": [
       "{1, 3, 9, 10}"
      ]
     },
     "metadata": {},
     "execution_count": 3
    }
   ],
   "source": [
    "newset = {1,10,9,3,9}\n",
    "newset"
   ]
  },
  {
   "cell_type": "code",
   "execution_count": 4,
   "metadata": {},
   "outputs": [
    {
     "output_type": "stream",
     "name": "stdout",
     "text": [
      "Initial setA: {'o', 'a', 'i', 'g', 'u', 'h', 'e'} size: 7\nInitial setB: {'o', 'a', 'z', 'u', 'b', 't', 'e'} size: 7\n(setA & setB): {'e', 'u', 'a', 'o'} size: 4\n"
     ]
    }
   ],
   "source": [
    "# Python intersection example using the & operator\n",
    "setA = {'a', 'e', 'i', 'o', 'u', 'g', 'h'}\n",
    "setB = {'a', 'e', 'z', 'b', 't', 'o', 'u'}\n",
    "\n",
    "print(\"Initial setA:\", setA, \"size:\", len(setA))\n",
    "print(\"Initial setB:\", setB, \"size:\", len(setB))\n",
    "\n",
    "print(\"(setA & setB):\", setA & setB, \"size:\", len(setA & setB))\n"
   ]
  },
  {
   "cell_type": "code",
   "execution_count": 5,
   "metadata": {},
   "outputs": [
    {
     "output_type": "stream",
     "name": "stdout",
     "text": [
      "Is 'apple' in the basket? True\nIs 'watermelon' in the basket? False\n"
     ]
    }
   ],
   "source": [
    "# Python set example to test elements in a set\n",
    "basket = set([\"apple\", \"mango\", \"banana\", \"grapes\", \"orange\"])\n",
    "\n",
    "# confirm if 'apple' is in the basket\n",
    "print(\"Is 'apple' in the basket?\", 'apple' in basket)\n",
    "\n",
    "# confirm if 'grapes' is in the basket\n",
    "print(\"Is 'watermelon' in the basket?\", 'watermelon' in basket)\n"
   ]
  },
  {
   "cell_type": "code",
   "execution_count": null,
   "metadata": {},
   "outputs": [],
   "source": []
  }
 ]
}